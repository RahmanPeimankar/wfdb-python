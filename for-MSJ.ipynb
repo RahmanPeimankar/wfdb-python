{
 "cells": [
  {
   "cell_type": "code",
   "execution_count": 5,
   "metadata": {},
   "outputs": [],
   "source": [
    "# pip install wfdb"
   ]
  },
  {
   "cell_type": "code",
   "execution_count": 6,
   "metadata": {},
   "outputs": [],
   "source": [
    "import wfdb\n",
    "import os\n",
    "import glob\n",
    "import pandas as pd\n",
    "import numpy as np\n",
    "import matplotlib.pyplot as plt"
   ]
  },
  {
   "cell_type": "code",
   "execution_count": 8,
   "metadata": {},
   "outputs": [
    {
     "name": "stdout",
     "output_type": "stream",
     "text": [
      "Generating record list for: 00735\n",
      "Generating record list for: 03665\n",
      "Generating record list for: 04015\n",
      "Generating record list for: 04043\n",
      "Generating record list for: 04048\n",
      "Generating record list for: 04126\n",
      "Generating record list for: 04746\n",
      "Generating record list for: 04908\n",
      "Generating record list for: 04936\n",
      "Generating record list for: 05091\n",
      "Generating record list for: 05121\n",
      "Generating record list for: 05261\n",
      "Generating record list for: 06426\n",
      "Generating record list for: 06453\n",
      "Generating record list for: 06995\n",
      "Generating record list for: 07162\n",
      "Generating record list for: 07859\n",
      "Generating record list for: 07879\n",
      "Generating record list for: 07910\n",
      "Generating record list for: 08215\n",
      "Generating record list for: 08219\n",
      "Generating record list for: 08378\n",
      "Generating record list for: 08405\n",
      "Generating record list for: 08434\n",
      "Generating record list for: 08455\n",
      "Generating list of all files for: 00735\n",
      "Generating list of all files for: 03665\n",
      "Generating list of all files for: 04015\n",
      "Generating list of all files for: 04043\n",
      "Generating list of all files for: 04048\n",
      "Generating list of all files for: 04126\n",
      "Generating list of all files for: 04746\n",
      "Generating list of all files for: 04908\n",
      "Generating list of all files for: 04936\n",
      "Generating list of all files for: 05091\n",
      "Generating list of all files for: 05121\n",
      "Generating list of all files for: 05261\n",
      "Generating list of all files for: 06426\n",
      "Generating list of all files for: 06453\n",
      "Generating list of all files for: 06995\n",
      "Generating list of all files for: 07162\n",
      "Generating list of all files for: 07859\n",
      "Generating list of all files for: 07879\n",
      "Generating list of all files for: 07910\n",
      "Generating list of all files for: 08215\n",
      "Generating list of all files for: 08219\n",
      "Generating list of all files for: 08378\n",
      "Generating list of all files for: 08405\n",
      "Generating list of all files for: 08434\n",
      "Generating list of all files for: 08455\n",
      "Downloading files...\n",
      "Finished downloading files\n"
     ]
    }
   ],
   "source": [
    "os.mkdir('data')\n",
    "wfdb.dl_database('afdb', os.getcwd() + '/data')"
   ]
  },
  {
   "cell_type": "code",
   "execution_count": 12,
   "metadata": {},
   "outputs": [],
   "source": [
    "print('Current directory is: {}'.format(os.getcwd()))"
   ]
  },
  {
   "cell_type": "code",
   "execution_count": null,
   "metadata": {},
   "outputs": [],
   "source": [
    "records = []\n",
    "properties = []\n",
    "annot = []\n",
    "AnnSymb = []\n",
    "AnnSamp = []\n",
    "AnnRhythm = []\n",
    "Rpeak_Samp = []\n",
    "Rpeak_Symb = []\n",
    "for f in glob.glob('D:\\\\afib\\\\data\\\\afdb\\\\*.dat'): ##### change the path (afib) to your own directory. The rest should \n",
    "                                                   ##### remin the same\n",
    "    sig, fields = wfdb.rdsamp(f[:-4])  #### In this function, you have the opportunity to pass \n",
    "                                       #### \"channels=[0]\" or \"channels=[1]\" to select channel 1 or 2.\n",
    "    ann = wfdb.rdann(f[:-4], 'atr')\n",
    "    QRS = wfdb.rdann(f[:-4], 'qrs')\n",
    "    Symb = pd.Series(ann.symbol)\n",
    "    Samp = pd.Series(ann.sample)\n",
    "    QRS_Symb = pd.Series(QRS.symbol)\n",
    "    QRS_Samp = pd.Series(QRS.sample)\n",
    "    Rhythm = pd.Series(ann.aux_note)\n",
    "    records.append(sig)\n",
    "    properties.append(fields)\n",
    "    annot.append(ann)\n",
    "    AnnSymb.append(Symb)\n",
    "    AnnSamp.append(Samp)\n",
    "    Rpeak_Symb.append(QRS_Symb)\n",
    "    Rpeak_Samp.append(QRS_Samp)\n",
    "    AnnRhythm.append(Rhythm)\n",
    "    \n",
    "AnnSymb = pd.Series(AnnSymb).values\n",
    "AnnSamp = pd.Series(AnnSamp).values"
   ]
  }
 ],
 "metadata": {
  "kernelspec": {
   "display_name": "Python 3",
   "language": "python",
   "name": "python3"
  },
  "language_info": {
   "codemirror_mode": {
    "name": "ipython",
    "version": 3
   },
   "file_extension": ".py",
   "mimetype": "text/x-python",
   "name": "python",
   "nbconvert_exporter": "python",
   "pygments_lexer": "ipython3",
   "version": "3.8.3"
  }
 },
 "nbformat": 4,
 "nbformat_minor": 4
}
